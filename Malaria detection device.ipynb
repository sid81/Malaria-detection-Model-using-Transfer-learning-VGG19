{
 "cells": [
  {
   "cell_type": "code",
   "execution_count": 4,
   "id": "0642c5c9",
   "metadata": {},
   "outputs": [],
   "source": [
    "import tensorflow as tf"
   ]
  },
  {
   "cell_type": "code",
   "execution_count": 5,
   "id": "33de6c6b",
   "metadata": {},
   "outputs": [
    {
     "name": "stdout",
     "output_type": "stream",
     "text": [
      "Requirement already satisfied: scikit-learn in g:\\practice_py\\tensorflow\\dog vs cat classification\\virenv\\lib\\site-packages (1.1.2)Note: you may need to restart the kernel to use updated packages.\n"
     ]
    },
    {
     "name": "stderr",
     "output_type": "stream",
     "text": [
      "WARNING: You are using pip version 21.2.4; however, version 22.3 is available.\n",
      "You should consider upgrading via the 'G:\\practice_py\\Tensorflow\\dog vs cat classification\\virenv\\Scripts\\python.exe -m pip install --upgrade pip' command.\n"
     ]
    },
    {
     "name": "stdout",
     "output_type": "stream",
     "text": [
      "\n",
      "Requirement already satisfied: joblib>=1.0.0 in g:\\practice_py\\tensorflow\\dog vs cat classification\\virenv\\lib\\site-packages (from scikit-learn) (1.2.0)\n",
      "Requirement already satisfied: threadpoolctl>=2.0.0 in g:\\practice_py\\tensorflow\\dog vs cat classification\\virenv\\lib\\site-packages (from scikit-learn) (3.1.0)\n",
      "Requirement already satisfied: numpy>=1.17.3 in g:\\practice_py\\tensorflow\\dog vs cat classification\\virenv\\lib\\site-packages (from scikit-learn) (1.23.4)\n",
      "Requirement already satisfied: scipy>=1.3.2 in g:\\practice_py\\tensorflow\\dog vs cat classification\\virenv\\lib\\site-packages (from scikit-learn) (1.9.3)\n"
     ]
    }
   ],
   "source": [
    "pip install scikit-learn"
   ]
  },
  {
   "cell_type": "code",
   "execution_count": 6,
   "id": "c8e1f41b",
   "metadata": {},
   "outputs": [
    {
     "name": "stdout",
     "output_type": "stream",
     "text": [
      "Package                      Version\n",
      "---------------------------- -----------\n",
      "absl-py                      1.3.0\n",
      "anyio                        3.6.2\n",
      "argon2-cffi                  21.3.0\n",
      "argon2-cffi-bindings         21.2.0\n",
      "asttokens                    2.0.8\n",
      "astunparse                   1.6.3\n",
      "attrs                        22.1.0\n",
      "backcall                     0.2.0\n",
      "beautifulsoup4               4.11.1\n",
      "bleach                       5.0.1\n",
      "cachetools                   5.2.0\n",
      "certifi                      2022.9.24\n",
      "cffi                         1.15.1\n",
      "charset-normalizer           2.1.1\n",
      "click                        8.1.3\n",
      "colorama                     0.4.5\n",
      "contourpy                    1.0.5\n",
      "cycler                       0.11.0\n",
      "debugpy                      1.6.3\n",
      "decorator                    5.1.1\n",
      "defusedxml                   0.7.1\n",
      "entrypoints                  0.4\n",
      "executing                    1.1.1\n",
      "fastjsonschema               2.16.2\n",
      "Flask                        2.2.2\n",
      "flatbuffers                  22.9.24\n",
      "fonttools                    4.38.0\n",
      "gast                         0.4.0\n",
      "google-auth                  2.13.0\n",
      "google-auth-oauthlib         0.4.6\n",
      "google-pasta                 0.2.0\n",
      "grpcio                       1.50.0\n",
      "h5py                         3.7.0\n",
      "idna                         3.4\n",
      "ipykernel                    6.16.1\n",
      "ipython                      8.5.0\n",
      "ipython-genutils             0.2.0\n",
      "ipywidgets                   8.0.2\n",
      "itsdangerous                 2.1.2\n",
      "jedi                         0.18.1\n",
      "Jinja2                       3.1.2\n",
      "joblib                       1.2.0\n",
      "jsonschema                   4.16.0\n",
      "jupyter                      1.0.0\n",
      "jupyter_client               7.4.3\n",
      "jupyter-console              6.4.4\n",
      "jupyter_core                 4.11.2\n",
      "jupyter-server               1.21.0\n",
      "jupyterlab-pygments          0.2.2\n",
      "jupyterlab-widgets           3.0.3\n",
      "keras                        2.10.0\n",
      "Keras-Preprocessing          1.1.2\n",
      "kiwisolver                   1.4.4\n",
      "libclang                     14.0.6\n",
      "Markdown                     3.4.1\n",
      "MarkupSafe                   2.1.1\n",
      "matplotlib                   3.6.1\n",
      "matplotlib-inline            0.1.6\n",
      "mistune                      2.0.4\n",
      "nbclassic                    0.4.5\n",
      "nbclient                     0.7.0\n",
      "nbconvert                    7.2.2\n",
      "nbformat                     5.7.0\n",
      "nest-asyncio                 1.5.6\n",
      "notebook                     6.5.1\n",
      "notebook_shim                0.2.0\n",
      "numpy                        1.23.4\n",
      "oauthlib                     3.2.2\n",
      "opencv-python                4.6.0.66\n",
      "opt-einsum                   3.3.0\n",
      "packaging                    21.3\n",
      "pandas                       1.5.1\n",
      "pandocfilters                1.5.0\n",
      "parso                        0.8.3\n",
      "pickleshare                  0.7.5\n",
      "Pillow                       9.2.0\n",
      "pip                          21.2.4\n",
      "prometheus-client            0.15.0\n",
      "prompt-toolkit               3.0.31\n",
      "protobuf                     3.19.6\n",
      "psutil                       5.9.3\n",
      "pure-eval                    0.2.2\n",
      "pyasn1                       0.4.8\n",
      "pyasn1-modules               0.2.8\n",
      "pycparser                    2.21\n",
      "Pygments                     2.13.0\n",
      "pyparsing                    3.0.9\n",
      "pyrsistent                   0.18.1\n",
      "python-dateutil              2.8.2\n",
      "pytz                         2022.5\n",
      "pywin32                      304\n",
      "pywinpty                     2.0.8\n",
      "pyzmq                        24.0.1\n",
      "qtconsole                    5.3.2\n",
      "QtPy                         2.2.1\n",
      "requests                     2.28.1\n",
      "requests-oauthlib            1.3.1\n",
      "rsa                          4.9\n",
      "scikit-learn                 1.1.2\n",
      "scipy                        1.9.3\n",
      "Send2Trash                   1.8.0\n",
      "setuptools                   58.1.0\n",
      "six                          1.16.0\n",
      "sniffio                      1.3.0\n",
      "soupsieve                    2.3.2.post1\n",
      "stack-data                   0.5.1\n",
      "tensorboard                  2.10.1\n",
      "tensorboard-data-server      0.6.1\n",
      "tensorboard-plugin-wit       1.8.1\n",
      "tensorflow                   2.10.0\n",
      "tensorflow-estimator         2.10.0\n",
      "tensorflow-io-gcs-filesystem 0.27.0\n",
      "termcolor                    2.0.1\n",
      "terminado                    0.16.0\n",
      "threadpoolctl                3.1.0\n",
      "tinycss2                     1.2.1\n",
      "tornado                      6.2\n",
      "traitlets                    5.5.0\n",
      "typing_extensions            4.4.0\n",
      "urllib3                      1.26.12\n",
      "wcwidth                      0.2.5\n",
      "webencodings                 0.5.1\n",
      "websocket-client             1.4.1\n",
      "Werkzeug                     2.2.2\n",
      "wheel                        0.37.1\n",
      "widgetsnbextension           4.0.3\n",
      "wrapt                        1.14.1\n",
      "Note: you may need to restart the kernel to use updated packages.\n"
     ]
    },
    {
     "name": "stderr",
     "output_type": "stream",
     "text": [
      "WARNING: You are using pip version 21.2.4; however, version 22.3 is available.\n",
      "You should consider upgrading via the 'G:\\practice_py\\Tensorflow\\dog vs cat classification\\virenv\\Scripts\\python.exe -m pip install --upgrade pip' command.\n"
     ]
    }
   ],
   "source": [
    "pip list"
   ]
  },
  {
   "cell_type": "code",
   "execution_count": 7,
   "id": "8002f36d",
   "metadata": {},
   "outputs": [],
   "source": [
    "from tensorflow.keras.layers import Input, Lambda, Dense, Flatten,Conv2D\n",
    "from tensorflow.keras.models import Model\n",
    "from keras.layers import Dense,Conv2D,MaxPooling2D,Flatten"
   ]
  },
  {
   "cell_type": "code",
   "execution_count": 8,
   "id": "4d53f384",
   "metadata": {},
   "outputs": [],
   "source": [
    "from tensorflow.keras.models import Sequential\n",
    "from tensorflow import keras"
   ]
  },
  {
   "cell_type": "code",
   "execution_count": 8,
   "id": "780682c7",
   "metadata": {},
   "outputs": [
    {
     "name": "stdout",
     "output_type": "stream",
     "text": [
      "Found 416 files belonging to 2 classes.\n",
      "Found 126 files belonging to 2 classes.\n"
     ]
    }
   ],
   "source": [
    "#generators\n",
    "train_dataset=keras.utils.image_dataset_from_directory(\n",
    "directory='Dataset/Train',\n",
    "labels='inferred',\n",
    "label_mode='int',\n",
    "batch_size=32,\n",
    "image_size=(224,224)\n",
    ")\n",
    "test_dataset=keras.utils.image_dataset_from_directory(\n",
    "directory='Dataset/Test',\n",
    "labels='inferred',\n",
    "label_mode='int',\n",
    "batch_size=32,\n",
    "image_size=(224,224)\n",
    ")"
   ]
  },
  {
   "cell_type": "code",
   "execution_count": 9,
   "id": "9daa91df",
   "metadata": {},
   "outputs": [],
   "source": [
    "def process(image,label):\n",
    "    image=tf.cast(image/255,tf.float32)\n",
    "    return image,label\n",
    "\n",
    "train_dataset=trian_dataset.map(process)\n",
    "test_dataset=test_dataset.map(process)"
   ]
  },
  {
   "cell_type": "code",
   "execution_count": 10,
   "id": "d6b9ee03",
   "metadata": {},
   "outputs": [],
   "source": [
    "from keras.layers import BatchNormalization,Dropout"
   ]
  },
  {
   "cell_type": "code",
   "execution_count": 21,
   "id": "409ca15d",
   "metadata": {},
   "outputs": [],
   "source": [
    "model=Sequential([\n",
    "    Conv2D(filters=32,kernel_size=(3,3),padding='valid',activation='relu',input_shape=(224,224,3)),\n",
    "    BatchNormalization(),\n",
    "    MaxPooling2D(pool_size=(2,2),padding='valid'),\n",
    "    \n",
    "    Conv2D(filters=64,kernel_size=(3,3),padding='valid',activation='relu',input_shape=(224,224,3)),\n",
    "    BatchNormalization(),\n",
    "    MaxPooling2D(pool_size=(2,2),padding='valid'),\n",
    "    Conv2D(filters=128,kernel_size=(3,3),padding='valid',activation='relu',input_shape=(224,224,3)),\n",
    "    BatchNormalization(),\n",
    "    MaxPooling2D(pool_size=(2,2),padding='valid'),\n",
    "\n",
    "    #dense\n",
    "    Flatten(),\n",
    "    Dense(128,activation='relu'),\n",
    "    Dropout(0.1),\n",
    "    Dense(64,activation='relu'),\n",
    "    Dropout(0.1),\n",
    "    Dense(1,activation='sigmoid')\n",
    "    ])\n",
    "    "
   ]
  },
  {
   "cell_type": "code",
   "execution_count": 22,
   "id": "1f20bc6e",
   "metadata": {},
   "outputs": [
    {
     "name": "stdout",
     "output_type": "stream",
     "text": [
      "Model: \"sequential_1\"\n",
      "_________________________________________________________________\n",
      " Layer (type)                Output Shape              Param #   \n",
      "=================================================================\n",
      " conv2d_8 (Conv2D)           (None, 222, 222, 32)      896       \n",
      "                                                                 \n",
      " batch_normalization_6 (Batc  (None, 222, 222, 32)     128       \n",
      " hNormalization)                                                 \n",
      "                                                                 \n",
      " max_pooling2d_5 (MaxPooling  (None, 111, 111, 32)     0         \n",
      " 2D)                                                             \n",
      "                                                                 \n",
      " conv2d_9 (Conv2D)           (None, 109, 109, 64)      18496     \n",
      "                                                                 \n",
      " batch_normalization_7 (Batc  (None, 109, 109, 64)     256       \n",
      " hNormalization)                                                 \n",
      "                                                                 \n",
      " max_pooling2d_6 (MaxPooling  (None, 54, 54, 64)       0         \n",
      " 2D)                                                             \n",
      "                                                                 \n",
      " conv2d_10 (Conv2D)          (None, 52, 52, 128)       73856     \n",
      "                                                                 \n",
      " batch_normalization_8 (Batc  (None, 52, 52, 128)      512       \n",
      " hNormalization)                                                 \n",
      "                                                                 \n",
      " max_pooling2d_7 (MaxPooling  (None, 26, 26, 128)      0         \n",
      " 2D)                                                             \n",
      "                                                                 \n",
      " flatten_2 (Flatten)         (None, 86528)             0         \n",
      "                                                                 \n",
      " dense_4 (Dense)             (None, 128)               11075712  \n",
      "                                                                 \n",
      " dropout_2 (Dropout)         (None, 128)               0         \n",
      "                                                                 \n",
      " dense_5 (Dense)             (None, 64)                8256      \n",
      "                                                                 \n",
      " dropout_3 (Dropout)         (None, 64)                0         \n",
      "                                                                 \n",
      " dense_6 (Dense)             (None, 1)                 65        \n",
      "                                                                 \n",
      "=================================================================\n",
      "Total params: 11,178,177\n",
      "Trainable params: 11,177,729\n",
      "Non-trainable params: 448\n",
      "_________________________________________________________________\n"
     ]
    }
   ],
   "source": [
    "model.summary()"
   ]
  },
  {
   "cell_type": "code",
   "execution_count": 23,
   "id": "7de2fa1d",
   "metadata": {},
   "outputs": [],
   "source": [
    "model.compile(optimizer='adam',\n",
    "              loss='binary_crossentropy',\n",
    "              metrics=['accuracy'])"
   ]
  },
  {
   "cell_type": "code",
   "execution_count": 24,
   "id": "3bc03ae4",
   "metadata": {},
   "outputs": [
    {
     "name": "stdout",
     "output_type": "stream",
     "text": [
      "Epoch 1/10\n",
      "13/13 [==============================] - 69s 5s/step - loss: 5.6788 - accuracy: 0.6731 - val_loss: 0.8302 - val_accuracy: 0.3810\n",
      "Epoch 2/10\n",
      "13/13 [==============================] - 71s 5s/step - loss: 2.5538 - accuracy: 0.7788 - val_loss: 1.0066 - val_accuracy: 0.3730\n",
      "Epoch 3/10\n",
      "13/13 [==============================] - 67s 5s/step - loss: 1.7783 - accuracy: 0.8438 - val_loss: 5.1810 - val_accuracy: 0.3095\n",
      "Epoch 4/10\n",
      "13/13 [==============================] - 68s 5s/step - loss: 0.9295 - accuracy: 0.8750 - val_loss: 6.4529 - val_accuracy: 0.3095\n",
      "Epoch 5/10\n",
      "13/13 [==============================] - 68s 5s/step - loss: 1.0366 - accuracy: 0.8678 - val_loss: 13.2454 - val_accuracy: 0.3095\n",
      "Epoch 6/10\n",
      "13/13 [==============================] - 83s 6s/step - loss: 0.8744 - accuracy: 0.8750 - val_loss: 16.8026 - val_accuracy: 0.3095\n",
      "Epoch 7/10\n",
      "13/13 [==============================] - 71s 5s/step - loss: 0.4806 - accuracy: 0.9375 - val_loss: 25.4872 - val_accuracy: 0.3095\n",
      "Epoch 8/10\n",
      "13/13 [==============================] - 66s 5s/step - loss: 0.6583 - accuracy: 0.9111 - val_loss: 23.8767 - val_accuracy: 0.3095\n",
      "Epoch 9/10\n",
      "13/13 [==============================] - 75s 6s/step - loss: 0.8237 - accuracy: 0.8918 - val_loss: 16.5760 - val_accuracy: 0.3095\n",
      "Epoch 10/10\n",
      "13/13 [==============================] - 66s 5s/step - loss: 0.3718 - accuracy: 0.9423 - val_loss: 11.7141 - val_accuracy: 0.3095\n"
     ]
    },
    {
     "data": {
      "text/plain": [
       "<keras.callbacks.History at 0x24e8c6385b0>"
      ]
     },
     "execution_count": 24,
     "metadata": {},
     "output_type": "execute_result"
    }
   ],
   "source": [
    "patron=model.fit(train_dataset,epochs=10,validation_data=test_dataset)\n",
    "patron"
   ]
  },
  {
   "cell_type": "code",
   "execution_count": 5,
   "id": "b07c1374",
   "metadata": {},
   "outputs": [],
   "source": [
    "import matplotlib.pyplot as plt"
   ]
  },
  {
   "cell_type": "code",
   "execution_count": 27,
   "id": "c2ed4e1b",
   "metadata": {},
   "outputs": [
    {
     "data": {
      "image/png": "[encoded data removed]",
      "text/plain": [
       "<Figure size 640x480 with 1 Axes>"
      ]
     },
     "metadata": {},
     "output_type": "display_data"
    }
   ],
   "source": [
    "# patron summarize history for accuracy\n",
    "plt.plot(patron.history['accuracy'])\n",
    "plt.plot(patron.history['val_accuracy'])\n",
    "plt.title('Model accuracy')\n",
    "plt.ylabel('accuracy')\n",
    "plt.xlabel('epoch')\n",
    "plt.legend(['train','test'],loc='upper left')\n",
    "plt.show()"
   ]
  },
  {
   "cell_type": "code",
   "execution_count": 28,
   "id": "c5ab1a05",
   "metadata": {},
   "outputs": [],
   "source": [
    "#very poor test accuracy"
   ]
  },
  {
   "cell_type": "code",
   "execution_count": 6,
   "id": "29cc7412",
   "metadata": {},
   "outputs": [
    {
     "ename": "NameError",
     "evalue": "name 'patron' is not defined",
     "output_type": "error",
     "traceback": [
      "\u001b[1;31m---------------------------------------------------------------------------\u001b[0m",
      "\u001b[1;31mNameError\u001b[0m                                 Traceback (most recent call last)",
      "Cell \u001b[1;32mIn [6], line 1\u001b[0m\n\u001b[1;32m----> 1\u001b[0m plt\u001b[38;5;241m.\u001b[39mplot(\u001b[43mpatron\u001b[49m\u001b[38;5;241m.\u001b[39mhistory[\u001b[38;5;124m'\u001b[39m\u001b[38;5;124mloss\u001b[39m\u001b[38;5;124m'\u001b[39m])\n\u001b[0;32m      2\u001b[0m plt\u001b[38;5;241m.\u001b[39mplot(patron\u001b[38;5;241m.\u001b[39mhistory[\u001b[38;5;124m'\u001b[39m\u001b[38;5;124mval_loss\u001b[39m\u001b[38;5;124m'\u001b[39m])\n\u001b[0;32m      3\u001b[0m plt\u001b[38;5;241m.\u001b[39mlegend([\u001b[38;5;124m'\u001b[39m\u001b[38;5;124mtrain\u001b[39m\u001b[38;5;124m'\u001b[39m,\u001b[38;5;124m'\u001b[39m\u001b[38;5;124mtest\u001b[39m\u001b[38;5;124m'\u001b[39m])\n",
      "\u001b[1;31mNameError\u001b[0m: name 'patron' is not defined"
     ]
    }
   ],
   "source": [
    "plt.plot(patron.history['loss'])\n",
    "plt.plot(patron.history['val_loss'])\n",
    "plt.legend(['train','test'])\n",
    "plt.show()"
   ]
  },
  {
   "cell_type": "code",
   "execution_count": 9,
   "id": "a4ac2d85",
   "metadata": {},
   "outputs": [],
   "source": [
    "from tensorflow.keras.applications.vgg19 import VGG19\n",
    "from tensorflow.keras.applications.resnet50 import preprocess_input\n",
    "from tensorflow.keras.preprocessing.image import ImageDataGenerator,load_img"
   ]
  },
  {
   "cell_type": "code",
   "execution_count": 10,
   "id": "f7d8be17",
   "metadata": {},
   "outputs": [],
   "source": [
    "# re-size all the images to this\n",
    "IMAGE_SIZE = [224, 224]\n",
    "\n",
    "train_path = 'Dataset/Train'\n",
    "valid_path = 'Dataset/Test'"
   ]
  },
  {
   "cell_type": "code",
   "execution_count": 11,
   "id": "3fee6677",
   "metadata": {},
   "outputs": [],
   "source": [
    "# Import the Vgg 16 library as shown below and add preprocessing layer to the front of VGG\n",
    "# Here we will be using imagenet weights\n",
    "\n",
    "vggnet = VGG19(input_shape=IMAGE_SIZE + [3], weights='imagenet', include_top=False)"
   ]
  },
  {
   "cell_type": "code",
   "execution_count": 12,
   "id": "7d6b9fcd",
   "metadata": {},
   "outputs": [],
   "source": [
    "# don't train existing weights\n",
    "for layer in vggnet.layers:\n",
    "    layer.trainable = False"
   ]
  },
  {
   "cell_type": "code",
   "execution_count": 13,
   "id": "36d7d677",
   "metadata": {},
   "outputs": [
    {
     "name": "stdout",
     "output_type": "stream",
     "text": [
      "Model: \"vgg19\"\n",
      "_________________________________________________________________\n",
      " Layer (type)                Output Shape              Param #   \n",
      "=================================================================\n",
      " input_1 (InputLayer)        [(None, 224, 224, 3)]     0         \n",
      "                                                                 \n",
      " block1_conv1 (Conv2D)       (None, 224, 224, 64)      1792      \n",
      "                                                                 \n",
      " block1_conv2 (Conv2D)       (None, 224, 224, 64)      36928     \n",
      "                                                                 \n",
      " block1_pool (MaxPooling2D)  (None, 112, 112, 64)      0         \n",
      "                                                                 \n",
      " block2_conv1 (Conv2D)       (None, 112, 112, 128)     73856     \n",
      "                                                                 \n",
      " block2_conv2 (Conv2D)       (None, 112, 112, 128)     147584    \n",
      "                                                                 \n",
      " block2_pool (MaxPooling2D)  (None, 56, 56, 128)       0         \n",
      "                                                                 \n",
      " block3_conv1 (Conv2D)       (None, 56, 56, 256)       295168    \n",
      "                                                                 \n",
      " block3_conv2 (Conv2D)       (None, 56, 56, 256)       590080    \n",
      "                                                                 \n",
      " block3_conv3 (Conv2D)       (None, 56, 56, 256)       590080    \n",
      "                                                                 \n",
      " block3_conv4 (Conv2D)       (None, 56, 56, 256)       590080    \n",
      "                                                                 \n",
      " block3_pool (MaxPooling2D)  (None, 28, 28, 256)       0         \n",
      "                                                                 \n",
      " block4_conv1 (Conv2D)       (None, 28, 28, 512)       1180160   \n",
      "                                                                 \n",
      " block4_conv2 (Conv2D)       (None, 28, 28, 512)       2359808   \n",
      "                                                                 \n",
      " block4_conv3 (Conv2D)       (None, 28, 28, 512)       2359808   \n",
      "                                                                 \n",
      " block4_conv4 (Conv2D)       (None, 28, 28, 512)       2359808   \n",
      "                                                                 \n",
      " block4_pool (MaxPooling2D)  (None, 14, 14, 512)       0         \n",
      "                                                                 \n",
      " block5_conv1 (Conv2D)       (None, 14, 14, 512)       2359808   \n",
      "                                                                 \n",
      " block5_conv2 (Conv2D)       (None, 14, 14, 512)       2359808   \n",
      "                                                                 \n",
      " block5_conv3 (Conv2D)       (None, 14, 14, 512)       2359808   \n",
      "                                                                 \n",
      " block5_conv4 (Conv2D)       (None, 14, 14, 512)       2359808   \n",
      "                                                                 \n",
      " block5_pool (MaxPooling2D)  (None, 7, 7, 512)         0         \n",
      "                                                                 \n",
      "=================================================================\n",
      "Total params: 20,024,384\n",
      "Trainable params: 0\n",
      "Non-trainable params: 20,024,384\n",
      "_________________________________________________________________\n"
     ]
    }
   ],
   "source": [
    "\n",
    "vggnet.summary()"
   ]
  },
  {
   "cell_type": "code",
   "execution_count": 14,
   "id": "58858647",
   "metadata": {},
   "outputs": [],
   "source": [
    "import numpy as np\n",
    "from glob import glob\n",
    "import matplotlib.pyplot as plt\n",
    "# useful for getting number of output classes\n",
    "folders = glob('Dataset/Train/*')"
   ]
  },
  {
   "cell_type": "code",
   "execution_count": 15,
   "id": "414fc7f4",
   "metadata": {},
   "outputs": [
    {
     "name": "stdout",
     "output_type": "stream",
     "text": [
      "['Dataset/Train\\\\Parasite', 'Dataset/Train\\\\Uninfected']\n",
      "2\n"
     ]
    }
   ],
   "source": [
    "print(folders)\n",
    "print(len(folders))"
   ]
  },
  {
   "cell_type": "code",
   "execution_count": 16,
   "id": "1b9c176a",
   "metadata": {},
   "outputs": [],
   "source": [
    "# our layers - you can add more if you want\n",
    "x = Flatten()(vggnet.output)"
   ]
  },
  {
   "cell_type": "code",
   "execution_count": 17,
   "id": "145fd873",
   "metadata": {},
   "outputs": [
    {
     "data": {
      "text/plain": [
       "<KerasTensor: shape=(None, 25088) dtype=float32 (created by layer 'flatten')>"
      ]
     },
     "execution_count": 17,
     "metadata": {},
     "output_type": "execute_result"
    }
   ],
   "source": [
    "x"
   ]
  },
  {
   "cell_type": "code",
   "execution_count": 18,
   "id": "6cc6fe46",
   "metadata": {},
   "outputs": [],
   "source": [
    "prediction = Dense(1, activation='sigmoid')(x)\n",
    "\n",
    "# create a model object\n",
    "model = Model(inputs=vggnet.input, outputs=prediction)"
   ]
  },
  {
   "cell_type": "code",
   "execution_count": 19,
   "id": "0c3c36e8",
   "metadata": {},
   "outputs": [
    {
     "name": "stdout",
     "output_type": "stream",
     "text": [
      "Model: \"model\"\n",
      "_________________________________________________________________\n",
      " Layer (type)                Output Shape              Param #   \n",
      "=================================================================\n",
      " input_1 (InputLayer)        [(None, 224, 224, 3)]     0         \n",
      "                                                                 \n",
      " block1_conv1 (Conv2D)       (None, 224, 224, 64)      1792      \n",
      "                                                                 \n",
      " block1_conv2 (Conv2D)       (None, 224, 224, 64)      36928     \n",
      "                                                                 \n",
      " block1_pool (MaxPooling2D)  (None, 112, 112, 64)      0         \n",
      "                                                                 \n",
      " block2_conv1 (Conv2D)       (None, 112, 112, 128)     73856     \n",
      "                                                                 \n",
      " block2_conv2 (Conv2D)       (None, 112, 112, 128)     147584    \n",
      "                                                                 \n",
      " block2_pool (MaxPooling2D)  (None, 56, 56, 128)       0         \n",
      "                                                                 \n",
      " block3_conv1 (Conv2D)       (None, 56, 56, 256)       295168    \n",
      "                                                                 \n",
      " block3_conv2 (Conv2D)       (None, 56, 56, 256)       590080    \n",
      "                                                                 \n",
      " block3_conv3 (Conv2D)       (None, 56, 56, 256)       590080    \n",
      "                                                                 \n",
      " block3_conv4 (Conv2D)       (None, 56, 56, 256)       590080    \n",
      "                                                                 \n",
      " block3_pool (MaxPooling2D)  (None, 28, 28, 256)       0         \n",
      "                                                                 \n",
      " block4_conv1 (Conv2D)       (None, 28, 28, 512)       1180160   \n",
      "                                                                 \n",
      " block4_conv2 (Conv2D)       (None, 28, 28, 512)       2359808   \n",
      "                                                                 \n",
      " block4_conv3 (Conv2D)       (None, 28, 28, 512)       2359808   \n",
      "                                                                 \n",
      " block4_conv4 (Conv2D)       (None, 28, 28, 512)       2359808   \n",
      "                                                                 \n",
      " block4_pool (MaxPooling2D)  (None, 14, 14, 512)       0         \n",
      "                                                                 \n",
      " block5_conv1 (Conv2D)       (None, 14, 14, 512)       2359808   \n",
      "                                                                 \n",
      " block5_conv2 (Conv2D)       (None, 14, 14, 512)       2359808   \n",
      "                                                                 \n",
      " block5_conv3 (Conv2D)       (None, 14, 14, 512)       2359808   \n",
      "                                                                 \n",
      " block5_conv4 (Conv2D)       (None, 14, 14, 512)       2359808   \n",
      "                                                                 \n",
      " block5_pool (MaxPooling2D)  (None, 7, 7, 512)         0         \n",
      "                                                                 \n",
      " flatten (Flatten)           (None, 25088)             0         \n",
      "                                                                 \n",
      " dense (Dense)               (None, 1)                 25089     \n",
      "                                                                 \n",
      "=================================================================\n",
      "Total params: 20,049,473\n",
      "Trainable params: 25,089\n",
      "Non-trainable params: 20,024,384\n",
      "_________________________________________________________________\n"
     ]
    }
   ],
   "source": [
    "\n",
    "# view the structure of the model\n",
    "model.summary()"
   ]
  },
  {
   "cell_type": "code",
   "execution_count": 20,
   "id": "ba990158",
   "metadata": {},
   "outputs": [],
   "source": [
    "# tell the model what cost and optimization method to use\n",
    "model.compile(\n",
    "  loss='binary_crossentropy',\n",
    "  optimizer='adam',\n",
    "  metrics=['accuracy']\n",
    ")"
   ]
  },
  {
   "cell_type": "code",
   "execution_count": 21,
   "id": "97cfc689",
   "metadata": {},
   "outputs": [],
   "source": [
    "# Use the Image Data Generator to import the images from the dataset\n",
    "from tensorflow.keras.preprocessing.image import ImageDataGenerator\n",
    "\n",
    "train_datagen = ImageDataGenerator(rescale = 1./255,\n",
    "                                   shear_range = 0.2,\n",
    "                                   zoom_range = 0.2,\n",
    "                                   horizontal_flip = True)\n",
    "\n",
    "test_datagen = ImageDataGenerator(rescale = 1./255)"
   ]
  },
  {
   "cell_type": "code",
   "execution_count": 22,
   "id": "a92c1917",
   "metadata": {},
   "outputs": [
    {
     "name": "stdout",
     "output_type": "stream",
     "text": [
      "Found 416 images belonging to 2 classes.\n"
     ]
    }
   ],
   "source": [
    "# Make sure you provide the same target size as initialied for the image size\n",
    "training_set = train_datagen.flow_from_directory('Dataset/Train',\n",
    "                                                 target_size = (224, 224),\n",
    "                                                 batch_size = 32,\n",
    "                                                 class_mode = 'binary')"
   ]
  },
  {
   "cell_type": "code",
   "execution_count": 27,
   "id": "66ac2be9",
   "metadata": {},
   "outputs": [
    {
     "data": {
      "text/plain": [
       "13"
      ]
     },
     "execution_count": 27,
     "metadata": {},
     "output_type": "execute_result"
    }
   ],
   "source": [
    "len(training_set)"
   ]
  },
  {
   "cell_type": "code",
   "execution_count": 25,
   "id": "da471e9a",
   "metadata": {},
   "outputs": [
    {
     "name": "stdout",
     "output_type": "stream",
     "text": [
      "Found 126 images belonging to 2 classes.\n"
     ]
    }
   ],
   "source": [
    "test_set = test_datagen.flow_from_directory('Dataset/Test',\n",
    "                                            target_size = (224, 224),\n",
    "                                            batch_size = 32,\n",
    "                                            class_mode = 'binary')"
   ]
  },
  {
   "cell_type": "code",
   "execution_count": 26,
   "id": "1a47b927",
   "metadata": {},
   "outputs": [
    {
     "data": {
      "text/plain": [
       "4"
      ]
     },
     "execution_count": 26,
     "metadata": {},
     "output_type": "execute_result"
    }
   ],
   "source": [
    "len(test_set)"
   ]
  },
  {
   "cell_type": "code",
   "execution_count": 28,
   "id": "a9c3c3a7",
   "metadata": {},
   "outputs": [
    {
     "name": "stdout",
     "output_type": "stream",
     "text": [
      "Epoch 1/7\n",
      "13/13 [==============================] - 321s 25s/step - loss: 0.3003 - accuracy: 0.8870 - val_loss: 0.3909 - val_accuracy: 0.8333\n",
      "Epoch 2/7\n",
      "13/13 [==============================] - 296s 23s/step - loss: 0.2867 - accuracy: 0.9062 - val_loss: 0.3958 - val_accuracy: 0.8492\n",
      "Epoch 3/7\n",
      "13/13 [==============================] - 325s 25s/step - loss: 0.2644 - accuracy: 0.9111 - val_loss: 0.3671 - val_accuracy: 0.8889\n",
      "Epoch 4/7\n",
      "13/13 [==============================] - 327s 26s/step - loss: 0.2571 - accuracy: 0.9255 - val_loss: 0.3485 - val_accuracy: 0.8651\n",
      "Epoch 5/7\n",
      "13/13 [==============================] - 271s 21s/step - loss: 0.2766 - accuracy: 0.8870 - val_loss: 0.4444 - val_accuracy: 0.7540\n",
      "Epoch 6/7\n",
      "13/13 [==============================] - 262s 20s/step - loss: 0.2279 - accuracy: 0.9279 - val_loss: 0.3932 - val_accuracy: 0.8254\n",
      "Epoch 7/7\n",
      "13/13 [==============================] - 262s 20s/step - loss: 0.2172 - accuracy: 0.9447 - val_loss: 0.3872 - val_accuracy: 0.8175\n"
     ]
    }
   ],
   "source": [
    "# fit the model\n",
    "# Run the cell. It will take some time to execute\n",
    "kundali = model.fit(\n",
    "  training_set,\n",
    "  validation_data=test_set,\n",
    "  epochs=7,\n",
    "  steps_per_epoch=13,#even if you dont mention,it will fit & run=416/32=13 training dataset\n",
    "  validation_steps=4#similarly for validation dataset 126/32=4\n",
    ")"
   ]
  },
  {
   "cell_type": "code",
   "execution_count": 29,
   "id": "484dd7fa",
   "metadata": {},
   "outputs": [
    {
     "data": {
      "image/png": "[encoded data removed]",
      "text/plain": [
       "<Figure size 640x480 with 1 Axes>"
      ]
     },
     "metadata": {},
     "output_type": "display_data"
    },
    {
     "data": {
      "image/png": "[encoded data removed]",
      "text/plain": [
       "<Figure size 640x480 with 1 Axes>"
      ]
     },
     "metadata": {},
     "output_type": "display_data"
    },
    {
     "data": {
      "text/plain": [
       "<Figure size 640x480 with 0 Axes>"
      ]
     },
     "metadata": {},
     "output_type": "display_data"
    }
   ],
   "source": [
    "# plot the loss\n",
    "plt.plot(kundali.history['loss'], label='train loss')\n",
    "plt.plot(kundali.history['val_loss'], label='val loss')\n",
    "plt.legend()\n",
    "plt.show()\n",
    "plt.savefig('LossVal_loss')\n",
    "\n",
    "# plot the accuracy\n",
    "plt.plot(kundali.history['accuracy'], label='train acc')\n",
    "plt.plot(kundali.history['val_accuracy'], label='val acc')\n",
    "plt.legend()\n",
    "plt.show()\n",
    "plt.savefig('AccVal_acc')"
   ]
  },
  {
   "cell_type": "code",
   "execution_count": 30,
   "id": "0130a95b",
   "metadata": {},
   "outputs": [],
   "source": [
    "# save it as a h5 file\n",
    "\n",
    "\n",
    "from tensorflow.keras.models import load_model\n",
    "\n",
    "model.save('Model_vgg19_malariah5.h5')"
   ]
  },
  {
   "cell_type": "code",
   "execution_count": 31,
   "id": "184bb319",
   "metadata": {},
   "outputs": [
    {
     "name": "stdout",
     "output_type": "stream",
     "text": [
      "4/4 [==============================] - 50s 13s/step\n"
     ]
    }
   ],
   "source": [
    "y_pred = model.predict(test_set)"
   ]
  },
  {
   "cell_type": "code",
   "execution_count": 32,
   "id": "c11d1e9c",
   "metadata": {},
   "outputs": [
    {
     "data": {
      "text/plain": [
       "array([[1.06888585e-01],\n",
       "       [5.13696909e-01],\n",
       "       [8.90746042e-02],\n",
       "       [8.87704909e-01],\n",
       "       [7.58653939e-01],\n",
       "       [7.89680660e-01],\n",
       "       [2.92616546e-01],\n",
       "       [7.40950048e-01],\n",
       "       [8.24889839e-01],\n",
       "       [7.38085434e-03],\n",
       "       [3.59704308e-02],\n",
       "       [5.44280350e-01],\n",
       "       [2.80055702e-01],\n",
       "       [8.01907420e-01],\n",
       "       [7.79182494e-01],\n",
       "       [9.29434896e-01],\n",
       "       [8.19752038e-01],\n",
       "       [1.80258915e-01],\n",
       "       [3.54027748e-02],\n",
       "       [1.87807474e-02],\n",
       "       [1.55819401e-01],\n",
       "       [3.33934247e-01],\n",
       "       [7.14631915e-01],\n",
       "       [9.11922514e-01],\n",
       "       [8.56949151e-01],\n",
       "       [9.53984633e-02],\n",
       "       [5.41553378e-01],\n",
       "       [5.19770265e-01],\n",
       "       [2.55777687e-03],\n",
       "       [7.26034641e-01],\n",
       "       [1.85128167e-01],\n",
       "       [9.29224670e-01],\n",
       "       [5.79697490e-01],\n",
       "       [2.10892688e-02],\n",
       "       [8.40985961e-03],\n",
       "       [2.25558821e-02],\n",
       "       [5.52803040e-01],\n",
       "       [8.62903774e-01],\n",
       "       [4.30143684e-01],\n",
       "       [7.53401756e-01],\n",
       "       [1.20352902e-01],\n",
       "       [4.76588547e-01],\n",
       "       [7.22235978e-01],\n",
       "       [3.66398662e-01],\n",
       "       [6.82334602e-01],\n",
       "       [3.61866467e-02],\n",
       "       [1.19835641e-02],\n",
       "       [1.31605759e-01],\n",
       "       [7.58669339e-04],\n",
       "       [5.73843539e-01],\n",
       "       [4.44436669e-01],\n",
       "       [5.62815145e-02],\n",
       "       [9.95624587e-02],\n",
       "       [8.53790045e-01],\n",
       "       [4.54144239e-01],\n",
       "       [2.10855603e-02],\n",
       "       [2.41099715e-01],\n",
       "       [8.72484446e-01],\n",
       "       [3.42492014e-01],\n",
       "       [2.38358274e-01],\n",
       "       [3.30620669e-02],\n",
       "       [6.32404387e-02],\n",
       "       [9.91767794e-02],\n",
       "       [4.03221339e-01],\n",
       "       [8.57820734e-03],\n",
       "       [4.54696566e-02],\n",
       "       [4.93352450e-02],\n",
       "       [8.42596352e-01],\n",
       "       [2.73254931e-01],\n",
       "       [8.30020130e-01],\n",
       "       [7.48459280e-01],\n",
       "       [5.92017472e-01],\n",
       "       [2.23855510e-01],\n",
       "       [6.40965164e-01],\n",
       "       [6.02199018e-01],\n",
       "       [9.98815242e-03],\n",
       "       [1.55025348e-01],\n",
       "       [9.13583517e-01],\n",
       "       [4.11185980e-01],\n",
       "       [2.46023491e-01],\n",
       "       [6.98247373e-01],\n",
       "       [6.87140748e-02],\n",
       "       [7.41216660e-01],\n",
       "       [3.63284908e-03],\n",
       "       [8.10695469e-01],\n",
       "       [5.01701355e-01],\n",
       "       [7.32891440e-01],\n",
       "       [7.59481192e-01],\n",
       "       [3.46935928e-01],\n",
       "       [6.95260942e-01],\n",
       "       [7.76054978e-01],\n",
       "       [3.03283811e-01],\n",
       "       [7.37140834e-01],\n",
       "       [2.31161803e-01],\n",
       "       [7.95514226e-01],\n",
       "       [2.76433557e-01],\n",
       "       [5.31814396e-01],\n",
       "       [2.55944178e-04],\n",
       "       [3.94676119e-01],\n",
       "       [5.89299537e-02],\n",
       "       [5.50155938e-01],\n",
       "       [6.68790102e-01],\n",
       "       [5.59859090e-02],\n",
       "       [6.46987334e-02],\n",
       "       [7.53670514e-01],\n",
       "       [7.86714971e-01],\n",
       "       [5.78949079e-02],\n",
       "       [8.62248838e-01],\n",
       "       [8.16581309e-01],\n",
       "       [7.95102417e-01],\n",
       "       [3.71576577e-01],\n",
       "       [5.07859178e-02],\n",
       "       [2.86061894e-02],\n",
       "       [8.90624702e-01],\n",
       "       [2.50199258e-01],\n",
       "       [4.23430046e-03],\n",
       "       [6.76125228e-01],\n",
       "       [7.90832102e-01],\n",
       "       [7.67374098e-01],\n",
       "       [6.45967245e-01],\n",
       "       [6.77734435e-01],\n",
       "       [8.37516546e-01],\n",
       "       [3.00276298e-02],\n",
       "       [4.75667149e-01],\n",
       "       [7.29030073e-02],\n",
       "       [8.36312056e-01]], dtype=float32)"
      ]
     },
     "execution_count": 32,
     "metadata": {},
     "output_type": "execute_result"
    }
   ],
   "source": [
    "y_pred"
   ]
  },
  {
   "cell_type": "code",
   "execution_count": 38,
   "id": "d9b9c195",
   "metadata": {},
   "outputs": [
    {
     "data": {
      "text/plain": [
       "array([0, 0, 0, 0, 0, 0, 0, 0, 0, 0, 0, 0, 0, 0, 0, 0, 0, 0, 0, 0, 0, 0,\n",
       "       0, 0, 0, 0, 0, 0, 0, 0, 0, 0, 0, 0, 0, 0, 0, 0, 0, 0, 0, 0, 0, 0,\n",
       "       0, 0, 0, 0, 0, 0, 0, 0, 0, 0, 0, 0, 0, 0, 0, 0, 0, 0, 0, 0, 0, 0,\n",
       "       0, 0, 0, 0, 0, 0, 0, 0, 0, 0, 0, 0, 0, 0, 0, 0, 0, 0, 0, 0, 0, 0,\n",
       "       0, 0, 0, 0, 0, 0, 0, 0, 0, 0, 0, 0, 0, 0, 0, 0, 0, 0, 0, 0, 0, 0,\n",
       "       0, 0, 0, 0, 0, 0, 0, 0, 0, 0, 0, 0, 0, 0, 0, 0], dtype=int64)"
      ]
     },
     "execution_count": 38,
     "metadata": {},
     "output_type": "execute_result"
    }
   ],
   "source": [
    "y_pred.flatten()"
   ]
  },
  {
   "cell_type": "code",
   "execution_count": 39,
   "id": "2d2a9373",
   "metadata": {},
   "outputs": [],
   "source": [
    "from tensorflow.keras.models import load_model\n",
    "from tensorflow.keras.preprocessing import image"
   ]
  },
  {
   "cell_type": "code",
   "execution_count": 41,
   "id": "17718546",
   "metadata": {},
   "outputs": [],
   "source": [
    "model=load_model('Model_vgg19_malariah5.h5')"
   ]
  },
  {
   "cell_type": "code",
   "execution_count": 68,
   "id": "3219b0df",
   "metadata": {},
   "outputs": [],
   "source": [
    "img=image.load_img('uploads/C39P4thinF_original_IMG_20150622_105803_cell_91.png',target_size=(224,224))"
   ]
  },
  {
   "cell_type": "code",
   "execution_count": 69,
   "id": "60b78765",
   "metadata": {},
   "outputs": [
    {
     "data": {
      "text/plain": [
       "array([[[0., 0., 0.],\n",
       "        [0., 0., 0.],\n",
       "        [0., 0., 0.],\n",
       "        ...,\n",
       "        [0., 0., 0.],\n",
       "        [0., 0., 0.],\n",
       "        [0., 0., 0.]],\n",
       "\n",
       "       [[0., 0., 0.],\n",
       "        [0., 0., 0.],\n",
       "        [0., 0., 0.],\n",
       "        ...,\n",
       "        [0., 0., 0.],\n",
       "        [0., 0., 0.],\n",
       "        [0., 0., 0.]],\n",
       "\n",
       "       [[0., 0., 0.],\n",
       "        [0., 0., 0.],\n",
       "        [0., 0., 0.],\n",
       "        ...,\n",
       "        [0., 0., 0.],\n",
       "        [0., 0., 0.],\n",
       "        [0., 0., 0.]],\n",
       "\n",
       "       ...,\n",
       "\n",
       "       [[0., 0., 0.],\n",
       "        [0., 0., 0.],\n",
       "        [0., 0., 0.],\n",
       "        ...,\n",
       "        [0., 0., 0.],\n",
       "        [0., 0., 0.],\n",
       "        [0., 0., 0.]],\n",
       "\n",
       "       [[0., 0., 0.],\n",
       "        [0., 0., 0.],\n",
       "        [0., 0., 0.],\n",
       "        ...,\n",
       "        [0., 0., 0.],\n",
       "        [0., 0., 0.],\n",
       "        [0., 0., 0.]],\n",
       "\n",
       "       [[0., 0., 0.],\n",
       "        [0., 0., 0.],\n",
       "        [0., 0., 0.],\n",
       "        ...,\n",
       "        [0., 0., 0.],\n",
       "        [0., 0., 0.],\n",
       "        [0., 0., 0.]]], dtype=float32)"
      ]
     },
     "execution_count": 69,
     "metadata": {},
     "output_type": "execute_result"
    }
   ],
   "source": [
    "i=image.img_to_array(img)\n",
    "i"
   ]
  },
  {
   "cell_type": "code",
   "execution_count": 70,
   "id": "ac878221",
   "metadata": {},
   "outputs": [],
   "source": [
    "import cv2"
   ]
  },
  {
   "cell_type": "code",
   "execution_count": 85,
   "id": "fb652cd8",
   "metadata": {},
   "outputs": [],
   "source": [
    "test_img=cv2.imread('uploads/C1_thinF_IMG_20150604_104942_cell_59.png')"
   ]
  },
  {
   "cell_type": "code",
   "execution_count": 86,
   "id": "ea1d794b",
   "metadata": {},
   "outputs": [
    {
     "data": {
      "text/plain": [
       "array([[[0, 0, 0],\n",
       "        [0, 0, 0],\n",
       "        [0, 0, 0],\n",
       "        ...,\n",
       "        [0, 0, 0],\n",
       "        [0, 0, 0],\n",
       "        [0, 0, 0]],\n",
       "\n",
       "       [[0, 0, 0],\n",
       "        [0, 0, 0],\n",
       "        [0, 0, 0],\n",
       "        ...,\n",
       "        [0, 0, 0],\n",
       "        [0, 0, 0],\n",
       "        [0, 0, 0]],\n",
       "\n",
       "       [[0, 0, 0],\n",
       "        [0, 0, 0],\n",
       "        [0, 0, 0],\n",
       "        ...,\n",
       "        [0, 0, 0],\n",
       "        [0, 0, 0],\n",
       "        [0, 0, 0]],\n",
       "\n",
       "       ...,\n",
       "\n",
       "       [[0, 0, 0],\n",
       "        [0, 0, 0],\n",
       "        [0, 0, 0],\n",
       "        ...,\n",
       "        [0, 0, 0],\n",
       "        [0, 0, 0],\n",
       "        [0, 0, 0]],\n",
       "\n",
       "       [[0, 0, 0],\n",
       "        [0, 0, 0],\n",
       "        [0, 0, 0],\n",
       "        ...,\n",
       "        [0, 0, 0],\n",
       "        [0, 0, 0],\n",
       "        [0, 0, 0]],\n",
       "\n",
       "       [[0, 0, 0],\n",
       "        [0, 0, 0],\n",
       "        [0, 0, 0],\n",
       "        ...,\n",
       "        [0, 0, 0],\n",
       "        [0, 0, 0],\n",
       "        [0, 0, 0]]], dtype=uint8)"
      ]
     },
     "execution_count": 86,
     "metadata": {},
     "output_type": "execute_result"
    }
   ],
   "source": [
    "test_img"
   ]
  },
  {
   "cell_type": "code",
   "execution_count": 87,
   "id": "b26dc7ea",
   "metadata": {},
   "outputs": [
    {
     "data": {
      "text/plain": [
       "<matplotlib.image.AxesImage at 0x20f031292a0>"
      ]
     },
     "execution_count": 87,
     "metadata": {},
     "output_type": "execute_result"
    },
    {
     "data": {
      "image/png": "[encoded data removed]",
      "text/plain": [
       "<Figure size 640x480 with 1 Axes>"
      ]
     },
     "metadata": {},
     "output_type": "display_data"
    }
   ],
   "source": [
    "plt.imshow(test_img)"
   ]
  },
  {
   "cell_type": "code",
   "execution_count": 88,
   "id": "30d35cbf",
   "metadata": {},
   "outputs": [
    {
     "data": {
      "text/plain": [
       "(121, 121, 3)"
      ]
     },
     "execution_count": 88,
     "metadata": {},
     "output_type": "execute_result"
    }
   ],
   "source": [
    "test_img.shape"
   ]
  },
  {
   "cell_type": "code",
   "execution_count": 89,
   "id": "9d16db2f",
   "metadata": {},
   "outputs": [],
   "source": [
    "test_img=cv2.resize(test_img,(224,224))"
   ]
  },
  {
   "cell_type": "code",
   "execution_count": 90,
   "id": "fef40a45",
   "metadata": {},
   "outputs": [],
   "source": [
    "test_img=test_img/255"
   ]
  },
  {
   "cell_type": "code",
   "execution_count": 91,
   "id": "86c6476a",
   "metadata": {},
   "outputs": [],
   "source": [
    "test_input=test_img.reshape((1,224,224,3))"
   ]
  },
  {
   "cell_type": "code",
   "execution_count": 92,
   "id": "d023f3ee",
   "metadata": {},
   "outputs": [
    {
     "name": "stdout",
     "output_type": "stream",
     "text": [
      "1/1 [==============================] - 0s 334ms/step\n"
     ]
    },
    {
     "data": {
      "text/plain": [
       "array([[0.8960386]], dtype=float32)"
      ]
     },
     "execution_count": 92,
     "metadata": {},
     "output_type": "execute_result"
    }
   ],
   "source": [
    "model.predict(test_input)"
   ]
  },
  {
   "cell_type": "code",
   "execution_count": null,
   "id": "b33460cb",
   "metadata": {},
   "outputs": [],
   "source": []
  },
  {
   "cell_type": "code",
   "execution_count": 94,
   "id": "53a2d6a7",
   "metadata": {},
   "outputs": [
    {
     "name": "stdout",
     "output_type": "stream",
     "text": [
      "1/1 [==============================] - 0s 341ms/step\n"
     ]
    },
    {
     "data": {
      "text/plain": [
       "array([[0.8960386]], dtype=float32)"
      ]
     },
     "execution_count": 94,
     "metadata": {},
     "output_type": "execute_result"
    }
   ],
   "source": [
    "result = model.predict(test_input)\n",
    "result \n"
   ]
  },
  {
   "cell_type": "code",
   "execution_count": 95,
   "id": "d957e3d1",
   "metadata": {},
   "outputs": [
    {
     "data": {
      "text/plain": [
       "array([0.8960386], dtype=float32)"
      ]
     },
     "execution_count": 95,
     "metadata": {},
     "output_type": "execute_result"
    }
   ],
   "source": [
    "result = result.flatten()\n",
    "result"
   ]
  },
  {
   "cell_type": "code",
   "execution_count": 96,
   "id": "c1b2f2c4",
   "metadata": {},
   "outputs": [
    {
     "data": {
      "text/plain": [
       "1"
      ]
     },
     "execution_count": 96,
     "metadata": {},
     "output_type": "execute_result"
    }
   ],
   "source": [
    "result = round(result[0])\n",
    "result"
   ]
  },
  {
   "cell_type": "code",
   "execution_count": null,
   "id": "f9c178b4",
   "metadata": {},
   "outputs": [],
   "source": []
  }
 ],
 "metadata": {
  "kernelspec": {
   "display_name": "virenv",
   "language": "python",
   "name": "virenv"
  },
  "language_info": {
   "codemirror_mode": {
    "name": "ipython",
    "version": 3
   },
   "file_extension": ".py",
   "mimetype": "text/x-python",
   "name": "python",
   "nbconvert_exporter": "python",
   "pygments_lexer": "ipython3",
   "version": "3.10.2"
  }
 },
 "nbformat": 4,
 "nbformat_minor": 5
}
